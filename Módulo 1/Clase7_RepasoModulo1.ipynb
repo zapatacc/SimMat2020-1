{
 "cells": [
  {
   "cell_type": "markdown",
   "metadata": {},
   "source": [
    "# Examen Módulo 1 - Optimización. <font color=blue>Tipo de examen 2</font>.\n",
    "Lea cuidadosamente las siguientes **indicaciones** antes de comenzar el examen:\n",
    "- Para resolver el examen edite este mismo archivo y renómbrelo de la siguiente manera: *Examen1_ApellidoNombre*, donde *ApellidoNombre* corresponde a su apellido paterno con la inicial en mayúscula, seguido de su primer nombre con la inicial en mayúscula **sin acentos**. Por ejemplo, en mi caso el nombre del archivo sería *Examen1_ZapataCristian*.\n",
    "- Resuelva los puntos en el espacio provisto. Si requiere agregar más celdas para código o escritura, hágalo.\n",
    "- Recuerde que también se está evaluando su capacidad de interpretar los resultados. Escriba sus interpretaciones/conclusiones en celdas utilizando *Markdown*.\n",
    "- El formato de presentación de todo el examen en general debe ser adecuado. Use tamaños de letra, colores, etiquetas, etcétera.\n",
    "- No se resuelven dudas de ningún tipo por los profesores de la asignatura. Por favor, absténgase de preguntar.\n",
    "- Revise bien el tipo de examen. Sólo se le calificará si realiza el tipo de examen asignado."
   ]
  },
  {
   "cell_type": "markdown",
   "metadata": {},
   "source": [
    "## Primer punto. Optimización de funciones escalares usando `sympy` (30 puntos).\n",
    "\n",
    "**Enunciado.** Se requiere construir una caja con tapa con un volumen de $72 cm^3$. Además, lo largo de la base debe ser el doble de lo ancho. ¿Cuáles deben ser las dimensiones de modo que el área superficial de la caja sea mínima? y, ¿cuál la superfie mínima?\n",
    "\n",
    "Ver la siguiente figura como ayuda\n",
    "![imagen.png](Caja.png)"
   ]
  },
  {
   "cell_type": "markdown",
   "metadata": {},
   "source": [
    "**Punto 1 (10 puntos).** Encuentre el área superficial de la caja en función de la variable $x$, $S(x)$. \n",
    "\n",
    "Realice este punto usando fórmulas en LaTeX, en celdas Markdown."
   ]
  },
  {
   "cell_type": "markdown",
   "metadata": {},
   "source": [
    "**Solución punto 1.**"
   ]
  },
  {
   "cell_type": "markdown",
   "metadata": {},
   "source": [
    "El área superficial está definida por\n",
    "\n",
    "$$S = 2xy + 2xz + 2yz$$\n",
    "\n",
    "Por planteamiento del problema se tiene que la base debe ser el doble de lo ancho, por lo que\n",
    "\n",
    "$$x = 2y$$\n",
    "\n",
    "Por lo tanto despejando $y$\n",
    "\n",
    "$$y = x/2$$\n",
    "\n",
    "Y el volumen total está dado por\n",
    "\n",
    "$$xyz = x(\\frac{x}{2})z = 72$$\n",
    "\n",
    "Despejando z\n",
    "\n",
    "$$z=\\frac{144}{x^2}$$\n",
    "\n",
    "Reemplazando\n",
    "\n",
    "$$S(x) = x^2 + \\frac{432}{x} $$\n"
   ]
  },
  {
   "cell_type": "markdown",
   "metadata": {},
   "source": [
    "**Punto 2 (15 puntos).** Usando `sympy` minimice la función $S(x)$."
   ]
  },
  {
   "cell_type": "markdown",
   "metadata": {},
   "source": [
    "**Solución punto 2.**"
   ]
  },
  {
   "cell_type": "code",
   "execution_count": 2,
   "metadata": {},
   "outputs": [],
   "source": [
    "import sympy as sym"
   ]
  },
  {
   "cell_type": "code",
   "execution_count": 3,
   "metadata": {},
   "outputs": [
    {
     "data": {
      "text/plain": [
       "x"
      ]
     },
     "execution_count": 3,
     "metadata": {},
     "output_type": "execute_result"
    }
   ],
   "source": [
    "sym.var('x')"
   ]
  },
  {
   "cell_type": "code",
   "execution_count": 4,
   "metadata": {},
   "outputs": [],
   "source": [
    "def S(x):\n",
    "    return x**2 + 432/x"
   ]
  },
  {
   "cell_type": "code",
   "execution_count": 6,
   "metadata": {},
   "outputs": [
    {
     "data": {
      "text/plain": [
       "2*x - 432/x**2"
      ]
     },
     "execution_count": 6,
     "metadata": {},
     "output_type": "execute_result"
    }
   ],
   "source": [
    "dS = sym.diff(S(x),x)\n",
    "dS"
   ]
  },
  {
   "cell_type": "code",
   "execution_count": 14,
   "metadata": {},
   "outputs": [
    {
     "data": {
      "text/plain": [
       "[6, -3 - 3*sqrt(3)*I, -3 + 3*sqrt(3)*I]"
      ]
     },
     "execution_count": 14,
     "metadata": {},
     "output_type": "execute_result"
    }
   ],
   "source": [
    "xc=sym.solve(dS,x)\n",
    "xc"
   ]
  },
  {
   "cell_type": "code",
   "execution_count": 16,
   "metadata": {},
   "outputs": [
    {
     "data": {
      "text/plain": [
       "6"
      ]
     },
     "execution_count": 16,
     "metadata": {},
     "output_type": "execute_result"
    }
   ],
   "source": [
    "d2S = sym.diff(S(x),x,2)\n",
    "d2S.subs(x,xc[0])"
   ]
  },
  {
   "cell_type": "markdown",
   "metadata": {},
   "source": [
    "El mínimo de la función es alcanzado en $x = 6$ y tiene un valor de $108$"
   ]
  },
  {
   "cell_type": "markdown",
   "metadata": {},
   "source": [
    "**Punto 3 (5 puntos).** ¿Cuáles son las dimensiones $x$, $y$, $z$ de la caja?"
   ]
  },
  {
   "cell_type": "markdown",
   "metadata": {},
   "source": [
    "**Solución punto 3.**"
   ]
  },
  {
   "cell_type": "markdown",
   "metadata": {},
   "source": [
    "Para la dimensión de x se tiene que"
   ]
  },
  {
   "cell_type": "code",
   "execution_count": 18,
   "metadata": {},
   "outputs": [
    {
     "data": {
      "text/plain": [
       "6"
      ]
     },
     "execution_count": 18,
     "metadata": {},
     "output_type": "execute_result"
    }
   ],
   "source": [
    "x = xc[0]\n",
    "x"
   ]
  },
  {
   "cell_type": "markdown",
   "metadata": {},
   "source": [
    "Y para $y$ se tiene que"
   ]
  },
  {
   "cell_type": "code",
   "execution_count": 19,
   "metadata": {},
   "outputs": [
    {
     "data": {
      "text/plain": [
       "3"
      ]
     },
     "execution_count": 19,
     "metadata": {},
     "output_type": "execute_result"
    }
   ],
   "source": [
    "y = xc[0]/2\n",
    "y"
   ]
  },
  {
   "cell_type": "markdown",
   "metadata": {},
   "source": [
    "Y finalmente para $z$"
   ]
  },
  {
   "cell_type": "code",
   "execution_count": 21,
   "metadata": {},
   "outputs": [
    {
     "data": {
      "text/plain": [
       "4"
      ]
     },
     "execution_count": 21,
     "metadata": {},
     "output_type": "execute_result"
    }
   ],
   "source": [
    "z = 144/xc[0]**2\n",
    "z"
   ]
  },
  {
   "cell_type": "markdown",
   "metadata": {},
   "source": [
    "## Segundo punto. Programación lineal (35 puntos)."
   ]
  },
  {
   "cell_type": "markdown",
   "metadata": {},
   "source": [
    "**Enunciado.** Se va a organizar una planta de un taller de automóviles donde van a trabajar electricistas y\n",
    "mecánicos; por necesidades de mercado, es necesario que el número de mecánicos sea igual o mayor\n",
    "al número de electricistas y que el número de mecánicos no supere al doble qué el de electricistas. En\n",
    "total hay disponibles $20$ electricistas y $30$ mecánicos. El beneficio de la empresa por jornada es $\\$25000$ por electricista y $\\$20000$ por mecánico. ¿Cuántos trabajadores de cada clase deben elegirse para\n",
    "obtener el máximo beneficio?"
   ]
  },
  {
   "cell_type": "markdown",
   "metadata": {},
   "source": [
    "*Definición de variables*: Sea $x_1$ número de mecánicos a elegir y $x_2$ número de electricistas a elegir."
   ]
  },
  {
   "cell_type": "markdown",
   "metadata": {},
   "source": [
    "**Punto 1 (20 puntos).** Escriba la función a minimizar junto con las restricciones, explicando detalladamente cada paso (usando fórmulas en LaTeX, en celdas Markdown). Además escriba el problema en la forma \n",
    "\\begin{equation}\n",
    "\\begin{array}{ll}\n",
    "\\min_{\\boldsymbol{x}} & \\boldsymbol{c}^T\\boldsymbol{x} \\\\\n",
    "\\text{s. a. }        & \\boldsymbol{A}_{eq}\\boldsymbol{x}=\\boldsymbol{b}_{eq} \\\\\n",
    "                     & \\boldsymbol{A}\\boldsymbol{x}\\leq\\boldsymbol{b},\n",
    "\\end{array}\n",
    "\\end{equation}\n",
    "\n",
    "proporcionando $\\boldsymbol{c}$, $\\boldsymbol{A}$ y $\\boldsymbol{b}$ ($\\boldsymbol{A}_{eq}$ y $\\boldsymbol{b}_{eq}$, de ser necesario) como arreglos de `NumPy` (no es necesario escribir en LaTeX el problema en la forma indicada, solo proporcionar las matrices como arreglos de `NumPy`). Adicionalmente, si se requiere, recuerde escribir las cotas (límites superiores e inferiores) para cada una de las variables."
   ]
  },
  {
   "cell_type": "markdown",
   "metadata": {},
   "source": [
    "**Solución punto 1.**"
   ]
  },
  {
   "cell_type": "markdown",
   "metadata": {},
   "source": [
    "La función a maximizar viene dada por\n",
    "\n",
    "$$\\max_{x_1,x_2} 20000x_1 + 25000x_2$$\n",
    "\n",
    "y las restricciones son las siguientes:\n",
    "\n",
    "$$ x_1 \\geq x_2 $$\n",
    "$$ x_1\\leq 2x_2$$\n",
    "$$x_1 \\leq 30$$\n",
    "$$x_2 \\leq 20$$"
   ]
  },
  {
   "cell_type": "code",
   "execution_count": 2,
   "metadata": {},
   "outputs": [],
   "source": [
    "import scipy.optimize as opt\n",
    "import numpy as np"
   ]
  },
  {
   "cell_type": "code",
   "execution_count": 3,
   "metadata": {},
   "outputs": [],
   "source": [
    "# Escriba acá las matrices como arreglos de Numpy\n",
    "c = -np.array([20000,25000])\n",
    "A = np.array([[-1,1],\n",
    "              [1,-2],\n",
    "              [1,0],\n",
    "              [0,1]])\n",
    "b = np.array([0,0,30,20])"
   ]
  },
  {
   "cell_type": "markdown",
   "metadata": {},
   "source": [
    "**Punto 2 (15 puntos).** Resuelva el problema utilizando la función `linprog`. ¿Cuántos será la ganancia total?"
   ]
  },
  {
   "cell_type": "code",
   "execution_count": 4,
   "metadata": {},
   "outputs": [],
   "source": [
    "sol = opt.linprog(c,A_ub=A,b_ub=b)"
   ]
  },
  {
   "cell_type": "code",
   "execution_count": 5,
   "metadata": {},
   "outputs": [
    {
     "data": {
      "text/plain": [
       "     fun: -1100000.0\n",
       " message: 'Optimization terminated successfully.'\n",
       "     nit: 3\n",
       "   slack: array([10., 10.,  0.,  0.])\n",
       "  status: 0\n",
       " success: True\n",
       "       x: array([30., 20.])"
      ]
     },
     "execution_count": 5,
     "metadata": {},
     "output_type": "execute_result"
    }
   ],
   "source": [
    "sol"
   ]
  },
  {
   "cell_type": "markdown",
   "metadata": {},
   "source": [
    "La ganancia total en los intereses será de $44000$"
   ]
  },
  {
   "cell_type": "markdown",
   "metadata": {},
   "source": [
    "## Tercer punto. Ajuste de curvas (35 puntos).\n",
    "\n",
    "**Enunciado**. El archivo `rural_poblation.csv` contiene información histórica anual de México relativa al porcentaje de población rural desde el año 1960 hasta el año 2017. La primer columna corresponde al consecutivo, la segunda a los años y la tercera al porcentaje de población rural.\n",
    "\n",
    "Tomado de: https://data.worldbank.org/indicator/SP.RUR.TOTL.ZS?locations=MX&view=chart\n",
    "\n",
    "**Punto 1 (10 puntos).** Importar los datos en un DataFrame de pandas."
   ]
  },
  {
   "cell_type": "markdown",
   "metadata": {},
   "source": [
    "**Solución punto 1.**"
   ]
  },
  {
   "cell_type": "code",
   "execution_count": 110,
   "metadata": {},
   "outputs": [],
   "source": [
    "import pandas as pd"
   ]
  },
  {
   "cell_type": "code",
   "execution_count": 109,
   "metadata": {},
   "outputs": [
    {
     "data": {
      "text/html": [
       "<div>\n",
       "<style scoped>\n",
       "    .dataframe tbody tr th:only-of-type {\n",
       "        vertical-align: middle;\n",
       "    }\n",
       "\n",
       "    .dataframe tbody tr th {\n",
       "        vertical-align: top;\n",
       "    }\n",
       "\n",
       "    .dataframe thead th {\n",
       "        text-align: right;\n",
       "    }\n",
       "</style>\n",
       "<table border=\"1\" class=\"dataframe\">\n",
       "  <thead>\n",
       "    <tr style=\"text-align: right;\">\n",
       "      <th></th>\n",
       "      <th>Consecutivo</th>\n",
       "      <th>Indicator Name</th>\n",
       "      <th>Rural population (% of total population)</th>\n",
       "    </tr>\n",
       "  </thead>\n",
       "  <tbody>\n",
       "    <tr>\n",
       "      <th>0</th>\n",
       "      <td>1</td>\n",
       "      <td>1960</td>\n",
       "      <td>49.247</td>\n",
       "    </tr>\n",
       "    <tr>\n",
       "      <th>1</th>\n",
       "      <td>2</td>\n",
       "      <td>1961</td>\n",
       "      <td>48.410</td>\n",
       "    </tr>\n",
       "    <tr>\n",
       "      <th>2</th>\n",
       "      <td>3</td>\n",
       "      <td>1962</td>\n",
       "      <td>47.572</td>\n",
       "    </tr>\n",
       "    <tr>\n",
       "      <th>3</th>\n",
       "      <td>4</td>\n",
       "      <td>1963</td>\n",
       "      <td>46.735</td>\n",
       "    </tr>\n",
       "    <tr>\n",
       "      <th>4</th>\n",
       "      <td>5</td>\n",
       "      <td>1964</td>\n",
       "      <td>45.900</td>\n",
       "    </tr>\n",
       "    <tr>\n",
       "      <th>5</th>\n",
       "      <td>6</td>\n",
       "      <td>1965</td>\n",
       "      <td>45.069</td>\n",
       "    </tr>\n",
       "    <tr>\n",
       "      <th>6</th>\n",
       "      <td>7</td>\n",
       "      <td>1966</td>\n",
       "      <td>44.239</td>\n",
       "    </tr>\n",
       "    <tr>\n",
       "      <th>7</th>\n",
       "      <td>8</td>\n",
       "      <td>1967</td>\n",
       "      <td>43.413</td>\n",
       "    </tr>\n",
       "    <tr>\n",
       "      <th>8</th>\n",
       "      <td>9</td>\n",
       "      <td>1968</td>\n",
       "      <td>42.589</td>\n",
       "    </tr>\n",
       "    <tr>\n",
       "      <th>9</th>\n",
       "      <td>10</td>\n",
       "      <td>1969</td>\n",
       "      <td>41.771</td>\n",
       "    </tr>\n",
       "    <tr>\n",
       "      <th>10</th>\n",
       "      <td>11</td>\n",
       "      <td>1970</td>\n",
       "      <td>40.979</td>\n",
       "    </tr>\n",
       "    <tr>\n",
       "      <th>11</th>\n",
       "      <td>12</td>\n",
       "      <td>1971</td>\n",
       "      <td>40.221</td>\n",
       "    </tr>\n",
       "    <tr>\n",
       "      <th>12</th>\n",
       "      <td>13</td>\n",
       "      <td>1972</td>\n",
       "      <td>39.468</td>\n",
       "    </tr>\n",
       "    <tr>\n",
       "      <th>13</th>\n",
       "      <td>14</td>\n",
       "      <td>1973</td>\n",
       "      <td>38.721</td>\n",
       "    </tr>\n",
       "    <tr>\n",
       "      <th>14</th>\n",
       "      <td>15</td>\n",
       "      <td>1974</td>\n",
       "      <td>37.978</td>\n",
       "    </tr>\n",
       "    <tr>\n",
       "      <th>15</th>\n",
       "      <td>16</td>\n",
       "      <td>1975</td>\n",
       "      <td>37.241</td>\n",
       "    </tr>\n",
       "    <tr>\n",
       "      <th>16</th>\n",
       "      <td>17</td>\n",
       "      <td>1976</td>\n",
       "      <td>36.509</td>\n",
       "    </tr>\n",
       "    <tr>\n",
       "      <th>17</th>\n",
       "      <td>18</td>\n",
       "      <td>1977</td>\n",
       "      <td>35.785</td>\n",
       "    </tr>\n",
       "    <tr>\n",
       "      <th>18</th>\n",
       "      <td>19</td>\n",
       "      <td>1978</td>\n",
       "      <td>35.066</td>\n",
       "    </tr>\n",
       "    <tr>\n",
       "      <th>19</th>\n",
       "      <td>20</td>\n",
       "      <td>1979</td>\n",
       "      <td>34.354</td>\n",
       "    </tr>\n",
       "    <tr>\n",
       "      <th>20</th>\n",
       "      <td>21</td>\n",
       "      <td>1980</td>\n",
       "      <td>33.661</td>\n",
       "    </tr>\n",
       "    <tr>\n",
       "      <th>21</th>\n",
       "      <td>22</td>\n",
       "      <td>1981</td>\n",
       "      <td>33.130</td>\n",
       "    </tr>\n",
       "    <tr>\n",
       "      <th>22</th>\n",
       "      <td>23</td>\n",
       "      <td>1982</td>\n",
       "      <td>32.604</td>\n",
       "    </tr>\n",
       "    <tr>\n",
       "      <th>23</th>\n",
       "      <td>24</td>\n",
       "      <td>1983</td>\n",
       "      <td>32.081</td>\n",
       "    </tr>\n",
       "    <tr>\n",
       "      <th>24</th>\n",
       "      <td>25</td>\n",
       "      <td>1984</td>\n",
       "      <td>31.563</td>\n",
       "    </tr>\n",
       "    <tr>\n",
       "      <th>25</th>\n",
       "      <td>26</td>\n",
       "      <td>1985</td>\n",
       "      <td>31.050</td>\n",
       "    </tr>\n",
       "    <tr>\n",
       "      <th>26</th>\n",
       "      <td>27</td>\n",
       "      <td>1986</td>\n",
       "      <td>30.541</td>\n",
       "    </tr>\n",
       "    <tr>\n",
       "      <th>27</th>\n",
       "      <td>28</td>\n",
       "      <td>1987</td>\n",
       "      <td>30.037</td>\n",
       "    </tr>\n",
       "    <tr>\n",
       "      <th>28</th>\n",
       "      <td>29</td>\n",
       "      <td>1988</td>\n",
       "      <td>29.538</td>\n",
       "    </tr>\n",
       "    <tr>\n",
       "      <th>29</th>\n",
       "      <td>30</td>\n",
       "      <td>1989</td>\n",
       "      <td>29.044</td>\n",
       "    </tr>\n",
       "    <tr>\n",
       "      <th>30</th>\n",
       "      <td>31</td>\n",
       "      <td>1990</td>\n",
       "      <td>28.581</td>\n",
       "    </tr>\n",
       "    <tr>\n",
       "      <th>31</th>\n",
       "      <td>32</td>\n",
       "      <td>1991</td>\n",
       "      <td>28.184</td>\n",
       "    </tr>\n",
       "    <tr>\n",
       "      <th>32</th>\n",
       "      <td>33</td>\n",
       "      <td>1992</td>\n",
       "      <td>27.791</td>\n",
       "    </tr>\n",
       "    <tr>\n",
       "      <th>33</th>\n",
       "      <td>34</td>\n",
       "      <td>1993</td>\n",
       "      <td>27.402</td>\n",
       "    </tr>\n",
       "    <tr>\n",
       "      <th>34</th>\n",
       "      <td>35</td>\n",
       "      <td>1994</td>\n",
       "      <td>27.015</td>\n",
       "    </tr>\n",
       "    <tr>\n",
       "      <th>35</th>\n",
       "      <td>36</td>\n",
       "      <td>1995</td>\n",
       "      <td>26.632</td>\n",
       "    </tr>\n",
       "    <tr>\n",
       "      <th>36</th>\n",
       "      <td>37</td>\n",
       "      <td>1996</td>\n",
       "      <td>26.330</td>\n",
       "    </tr>\n",
       "    <tr>\n",
       "      <th>37</th>\n",
       "      <td>38</td>\n",
       "      <td>1997</td>\n",
       "      <td>26.071</td>\n",
       "    </tr>\n",
       "    <tr>\n",
       "      <th>38</th>\n",
       "      <td>39</td>\n",
       "      <td>1998</td>\n",
       "      <td>25.814</td>\n",
       "    </tr>\n",
       "    <tr>\n",
       "      <th>39</th>\n",
       "      <td>40</td>\n",
       "      <td>1999</td>\n",
       "      <td>25.559</td>\n",
       "    </tr>\n",
       "    <tr>\n",
       "      <th>40</th>\n",
       "      <td>41</td>\n",
       "      <td>2000</td>\n",
       "      <td>25.278</td>\n",
       "    </tr>\n",
       "    <tr>\n",
       "      <th>41</th>\n",
       "      <td>42</td>\n",
       "      <td>2001</td>\n",
       "      <td>24.955</td>\n",
       "    </tr>\n",
       "    <tr>\n",
       "      <th>42</th>\n",
       "      <td>43</td>\n",
       "      <td>2002</td>\n",
       "      <td>24.635</td>\n",
       "    </tr>\n",
       "    <tr>\n",
       "      <th>43</th>\n",
       "      <td>44</td>\n",
       "      <td>2003</td>\n",
       "      <td>24.318</td>\n",
       "    </tr>\n",
       "    <tr>\n",
       "      <th>44</th>\n",
       "      <td>45</td>\n",
       "      <td>2004</td>\n",
       "      <td>24.003</td>\n",
       "    </tr>\n",
       "    <tr>\n",
       "      <th>45</th>\n",
       "      <td>46</td>\n",
       "      <td>2005</td>\n",
       "      <td>23.692</td>\n",
       "    </tr>\n",
       "    <tr>\n",
       "      <th>46</th>\n",
       "      <td>47</td>\n",
       "      <td>2006</td>\n",
       "      <td>23.384</td>\n",
       "    </tr>\n",
       "    <tr>\n",
       "      <th>47</th>\n",
       "      <td>48</td>\n",
       "      <td>2007</td>\n",
       "      <td>23.080</td>\n",
       "    </tr>\n",
       "    <tr>\n",
       "      <th>48</th>\n",
       "      <td>49</td>\n",
       "      <td>2008</td>\n",
       "      <td>22.778</td>\n",
       "    </tr>\n",
       "    <tr>\n",
       "      <th>49</th>\n",
       "      <td>50</td>\n",
       "      <td>2009</td>\n",
       "      <td>22.480</td>\n",
       "    </tr>\n",
       "    <tr>\n",
       "      <th>50</th>\n",
       "      <td>51</td>\n",
       "      <td>2010</td>\n",
       "      <td>22.185</td>\n",
       "    </tr>\n",
       "    <tr>\n",
       "      <th>51</th>\n",
       "      <td>52</td>\n",
       "      <td>2011</td>\n",
       "      <td>21.889</td>\n",
       "    </tr>\n",
       "    <tr>\n",
       "      <th>52</th>\n",
       "      <td>53</td>\n",
       "      <td>2012</td>\n",
       "      <td>21.595</td>\n",
       "    </tr>\n",
       "    <tr>\n",
       "      <th>53</th>\n",
       "      <td>54</td>\n",
       "      <td>2013</td>\n",
       "      <td>21.301</td>\n",
       "    </tr>\n",
       "    <tr>\n",
       "      <th>54</th>\n",
       "      <td>55</td>\n",
       "      <td>2014</td>\n",
       "      <td>21.007</td>\n",
       "    </tr>\n",
       "    <tr>\n",
       "      <th>55</th>\n",
       "      <td>56</td>\n",
       "      <td>2015</td>\n",
       "      <td>20.715</td>\n",
       "    </tr>\n",
       "    <tr>\n",
       "      <th>56</th>\n",
       "      <td>57</td>\n",
       "      <td>2016</td>\n",
       "      <td>20.423</td>\n",
       "    </tr>\n",
       "    <tr>\n",
       "      <th>57</th>\n",
       "      <td>58</td>\n",
       "      <td>2017</td>\n",
       "      <td>20.133</td>\n",
       "    </tr>\n",
       "  </tbody>\n",
       "</table>\n",
       "</div>"
      ],
      "text/plain": [
       "    Consecutivo  Indicator Name  Rural population (% of total population)\n",
       "0             1            1960                                    49.247\n",
       "1             2            1961                                    48.410\n",
       "2             3            1962                                    47.572\n",
       "3             4            1963                                    46.735\n",
       "4             5            1964                                    45.900\n",
       "5             6            1965                                    45.069\n",
       "6             7            1966                                    44.239\n",
       "7             8            1967                                    43.413\n",
       "8             9            1968                                    42.589\n",
       "9            10            1969                                    41.771\n",
       "10           11            1970                                    40.979\n",
       "11           12            1971                                    40.221\n",
       "12           13            1972                                    39.468\n",
       "13           14            1973                                    38.721\n",
       "14           15            1974                                    37.978\n",
       "15           16            1975                                    37.241\n",
       "16           17            1976                                    36.509\n",
       "17           18            1977                                    35.785\n",
       "18           19            1978                                    35.066\n",
       "19           20            1979                                    34.354\n",
       "20           21            1980                                    33.661\n",
       "21           22            1981                                    33.130\n",
       "22           23            1982                                    32.604\n",
       "23           24            1983                                    32.081\n",
       "24           25            1984                                    31.563\n",
       "25           26            1985                                    31.050\n",
       "26           27            1986                                    30.541\n",
       "27           28            1987                                    30.037\n",
       "28           29            1988                                    29.538\n",
       "29           30            1989                                    29.044\n",
       "30           31            1990                                    28.581\n",
       "31           32            1991                                    28.184\n",
       "32           33            1992                                    27.791\n",
       "33           34            1993                                    27.402\n",
       "34           35            1994                                    27.015\n",
       "35           36            1995                                    26.632\n",
       "36           37            1996                                    26.330\n",
       "37           38            1997                                    26.071\n",
       "38           39            1998                                    25.814\n",
       "39           40            1999                                    25.559\n",
       "40           41            2000                                    25.278\n",
       "41           42            2001                                    24.955\n",
       "42           43            2002                                    24.635\n",
       "43           44            2003                                    24.318\n",
       "44           45            2004                                    24.003\n",
       "45           46            2005                                    23.692\n",
       "46           47            2006                                    23.384\n",
       "47           48            2007                                    23.080\n",
       "48           49            2008                                    22.778\n",
       "49           50            2009                                    22.480\n",
       "50           51            2010                                    22.185\n",
       "51           52            2011                                    21.889\n",
       "52           53            2012                                    21.595\n",
       "53           54            2013                                    21.301\n",
       "54           55            2014                                    21.007\n",
       "55           56            2015                                    20.715\n",
       "56           57            2016                                    20.423\n",
       "57           58            2017                                    20.133"
      ]
     },
     "execution_count": 109,
     "metadata": {},
     "output_type": "execute_result"
    }
   ],
   "source": [
    "archivo = 'rural_poblation.csv'\n",
    "data = pd.read_csv(archivo)\n",
    "data"
   ]
  },
  {
   "cell_type": "markdown",
   "metadata": {},
   "source": [
    "**Punto 2 (15 puntos).** Usando el consecutivo como variable independiente $x$ y el porcentaje de pobalción rural como variable dependiente $y$, ajustar polinomios de grado 1 hasta grado 3.\n",
    "\n",
    "Mostrar en un solo gráfico los datos de población contra los años, y los polinomios ajustados.\n",
    "\n",
    "Graficar el error cuadrático acumulado contra el número de términos. ¿Cuál es el polinomio que mejor se ajusta?"
   ]
  },
  {
   "cell_type": "markdown",
   "metadata": {},
   "source": [
    "**Solución punto 2.**"
   ]
  },
  {
   "cell_type": "code",
   "execution_count": 95,
   "metadata": {},
   "outputs": [],
   "source": [
    "import numpy as np\n",
    "import scipy.optimize as opt"
   ]
  },
  {
   "cell_type": "code",
   "execution_count": 96,
   "metadata": {},
   "outputs": [],
   "source": [
    "x = data.iloc[:,0]\n",
    "y = data.iloc[:,2]"
   ]
  },
  {
   "cell_type": "code",
   "execution_count": 97,
   "metadata": {},
   "outputs": [],
   "source": [
    "def fun_obj(beta,x,y,n):\n",
    "    f = beta.dot([x**i for i in range(n+1)])\n",
    "    e = y-f\n",
    "    return np.sum(e**2)"
   ]
  },
  {
   "cell_type": "code",
   "execution_count": 111,
   "metadata": {},
   "outputs": [],
   "source": [
    "b01 = np.zeros(2)\n",
    "ajuste1 = opt.minimize(fun_obj, b01, args=(x,y,1))\n",
    "b02 = np.zeros(3)\n",
    "ajuste2 = opt.minimize(fun_obj, b02, args=(x,y,2))\n",
    "b03 = np.zeros(4)\n",
    "ajuste3 = opt.minimize(fun_obj, b03, args=(x,y,3))"
   ]
  },
  {
   "cell_type": "code",
   "execution_count": 99,
   "metadata": {},
   "outputs": [
    {
     "data": {
      "text/plain": [
       "      fun: 176.86210612483944\n",
       " hess_inv: array([[ 3.54243059e-02, -9.08324799e-04],\n",
       "       [-9.08324799e-04,  3.07836134e-05]])\n",
       "      jac: array([-1.90734863e-06,  1.90734863e-06])\n",
       "  message: 'Optimization terminated successfully.'\n",
       "     nfev: 24\n",
       "      nit: 5\n",
       "     njev: 6\n",
       "   status: 0\n",
       "  success: True\n",
       "        x: array([45.95147992, -0.4929514 ])"
      ]
     },
     "execution_count": 99,
     "metadata": {},
     "output_type": "execute_result"
    }
   ],
   "source": [
    "ajuste1"
   ]
  },
  {
   "cell_type": "code",
   "execution_count": 100,
   "metadata": {},
   "outputs": [
    {
     "data": {
      "text/plain": [
       "      fun: 6.221618315647241\n",
       " hess_inv: array([[ 8.32909957e-02, -5.69433817e-03,  8.11153631e-05],\n",
       "       [-5.69433817e-03,  5.09235425e-04, -8.10849193e-06],\n",
       "       [ 8.11153631e-05, -8.10849193e-06,  1.37414382e-07]])\n",
       "      jac: array([4.94718552e-06, 2.68220901e-06, 0.00000000e+00])\n",
       "  message: 'Optimization terminated successfully.'\n",
       "     nfev: 40\n",
       "      nit: 6\n",
       "     njev: 8\n",
       "   status: 0\n",
       "  success: True\n",
       "        x: array([ 4.99903977e+01, -8.96843153e-01,  6.84562291e-03])"
      ]
     },
     "execution_count": 100,
     "metadata": {},
     "output_type": "execute_result"
    }
   ],
   "source": [
    "ajuste2"
   ]
  },
  {
   "cell_type": "code",
   "execution_count": 101,
   "metadata": {},
   "outputs": [
    {
     "data": {
      "text/plain": [
       "      fun: 2.035022020792839\n",
       " hess_inv: array([[ 1.57417473e-01, -2.01689590e-02,  6.89419524e-04,\n",
       "        -6.87455351e-06],\n",
       "       [-2.01689590e-02,  3.33408993e-03, -1.26801113e-04,\n",
       "         1.34123150e-06],\n",
       "       [ 6.89419524e-04, -1.26801113e-04,  5.12420555e-06,\n",
       "        -5.63489547e-08],\n",
       "       [-6.87455351e-06,  1.34123150e-06, -5.63489547e-08,\n",
       "         6.36711578e-10]])\n",
       "      jac: array([-8.94069672e-08, -3.27825546e-07, -4.20212746e-06,  8.94069672e-08])\n",
       "  message: 'Optimization terminated successfully.'\n",
       "     nfev: 54\n",
       "      nit: 6\n",
       "     njev: 9\n",
       "   status: 0\n",
       "  success: True\n",
       "        x: array([ 5.08125087e+01, -1.05723747e+00,  1.35842407e-02, -7.61425778e-05])"
      ]
     },
     "execution_count": 101,
     "metadata": {},
     "output_type": "execute_result"
    }
   ],
   "source": [
    "ajuste3"
   ]
  },
  {
   "cell_type": "code",
   "execution_count": 112,
   "metadata": {},
   "outputs": [],
   "source": [
    "xpoints = x\n",
    "ypoints = y\n",
    "yhat1 = (ajuste1.x[0]+ajuste1.x[1]*xpoints)\n",
    "yhat2 = (ajuste2.x[0]+ajuste2.x[1]*xpoints+ajuste2.x[2]*(xpoints**2))\n",
    "yhat3 = (ajuste3.x[0]+ajuste3.x[1]*xpoints+ajuste3.x[2]*(xpoints**2)+ajuste3.x[3]*(xpoints**3))"
   ]
  },
  {
   "cell_type": "code",
   "execution_count": 113,
   "metadata": {},
   "outputs": [],
   "source": [
    "import matplotlib.pyplot as plt"
   ]
  },
  {
   "cell_type": "code",
   "execution_count": 115,
   "metadata": {},
   "outputs": [
    {
     "data": {
      "text/plain": [
       "<matplotlib.legend.Legend at 0x1b67d651cc0>"
      ]
     },
     "execution_count": 115,
     "metadata": {},
     "output_type": "execute_result"
    },
    {
     "data": {
      "image/png": "[encoded data removed]",
      "text/plain": [
       "<Figure size 576x432 with 1 Axes>"
      ]
     },
     "metadata": {
      "needs_background": "light"
     },
     "output_type": "display_data"
    }
   ],
   "source": [
    "plt.figure(figsize=(8,6))\n",
    "plt.plot(xpoints+1959, ypoints, 'r*', ms=5, label='Datos')\n",
    "plt.plot(xpoints+1959, yhat1, 'b', lw=2, label='Ajuste 1')\n",
    "plt.plot(xpoints+1959, yhat2, 'k', lw=2, label='Ajuste 2')\n",
    "plt.plot(xpoints+1959, yhat3, 'g', lw=2, label='Ajuste 3')\n",
    "plt.grid()\n",
    "plt.xlabel('Años')\n",
    "plt.ylabel('% de Población')\n",
    "plt.legend(loc='best')"
   ]
  },
  {
   "cell_type": "code",
   "execution_count": 116,
   "metadata": {},
   "outputs": [
    {
     "data": {
      "text/plain": [
       "Text(0, 0.5, 'error')"
      ]
     },
     "execution_count": 116,
     "metadata": {},
     "output_type": "execute_result"
    },
    {
     "data": {
      "image/png": "[encoded data removed]",
      "text/plain": [
       "<Figure size 576x432 with 1 Axes>"
      ]
     },
     "metadata": {
      "needs_background": "light"
     },
     "output_type": "display_data"
    }
   ],
   "source": [
    "error = [ajuste1.fun, ajuste2.fun, ajuste3.fun]\n",
    "plt.figure(figsize=(8,6))\n",
    "plt.plot(range(1,4), error, 'ro', ms=5)\n",
    "plt.xlabel('Orden del polinomio')\n",
    "plt.ylabel('error')"
   ]
  },
  {
   "cell_type": "markdown",
   "metadata": {},
   "source": [
    "*Conclusión*"
   ]
  },
  {
   "cell_type": "markdown",
   "metadata": {},
   "source": [
    "Según la gráfica anterior, el polinomio que mejor se ajusta es el de tercer orden."
   ]
  },
  {
   "cell_type": "markdown",
   "metadata": {},
   "source": [
    "**Punto 3 (10 puntos).** Con los polinomios ajustados en el punto anterior, estime la población en el año 2017 y compare con el dato real 20.133%.\n",
    "\n",
    "¿Cuál polinomio estima mejor este dato? ¿Es el polinomio que mejor se ajusta? Concluya."
   ]
  },
  {
   "cell_type": "markdown",
   "metadata": {
    "collapsed": true
   },
   "source": [
    "**Solución punto 3.**"
   ]
  },
  {
   "cell_type": "code",
   "execution_count": 123,
   "metadata": {},
   "outputs": [
    {
     "data": {
      "text/plain": [
       "(17.3602990063973, 21.00217027085934, 20.33379060346793, 20.133)"
      ]
     },
     "execution_count": 123,
     "metadata": {},
     "output_type": "execute_result"
    }
   ],
   "source": [
    "yhat1[57],yhat2[57],yhat3[57],data.iloc[57,2]"
   ]
  },
  {
   "cell_type": "markdown",
   "metadata": {},
   "source": [
    "*Conclusión*. El polinomio que mejor estima este dato es el polinomio de grado tres."
   ]
  }
 ],
 "metadata": {
  "kernelspec": {
   "display_name": "Python 3",
   "language": "python",
   "name": "python3"
  },
  "language_info": {
   "codemirror_mode": {
    "name": "ipython",
    "version": 3
   },
   "file_extension": ".py",
   "mimetype": "text/x-python",
   "name": "python",
   "nbconvert_exporter": "python",
   "pygments_lexer": "ipython3",
   "version": "3.6.6"
  }
 },
 "nbformat": 4,
 "nbformat_minor": 2
}
