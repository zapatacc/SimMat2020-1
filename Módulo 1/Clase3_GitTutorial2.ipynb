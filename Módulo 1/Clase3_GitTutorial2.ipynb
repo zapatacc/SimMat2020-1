{
 "cells": [
  {
   "cell_type": "markdown",
   "metadata": {},
   "source": [
    "# `git`, `GitHub`, `GitKraken` (continuación)\n",
    "\n",
    "<img style=\"float: left; margin: 15px 15px 15px 15px;\" src=\"http://conociendogithub.readthedocs.io/en/latest/_images/Git.png\" width=\"180\" height=\"50\" />\n",
    "<img style=\"float: left; margin: 15px 15px 15px 15px;\" src=\"https://c1.staticflickr.com/3/2238/13158675193_2892abac95_z.jpg\" title=\"github\" width=\"180\" height=\"50\" />\n",
    "<img style=\"float: left; margin: 15px 15px 15px 15px;\" src=\"https://www.gitkraken.com/downloads/brand-assets/gitkraken-keif-teal-sq.png\" title=\"gitkraken\" width=\"180\" height=\"50\" />"
   ]
  },
  {
   "cell_type": "markdown",
   "metadata": {},
   "source": [
    "___\n",
    "## Repaso de la clase pasada\n",
    "En la clase pasada vimos como sincronizar el repositorio remoto con los cambios que hemos realizado y documentado localmente. *En la práctica, esto se da cuando nosotros mismos editamos alguna parte de un proyecto en el que estamos trabajando*.\n",
    "\n",
    "Ahora aprenderemos a hacer lo contrario. Es decir, como sincronizar el repositorio local con los cambios que se hayan hecho en el repositorio remoto. *En la práctica, esto se da cuando otros colaboradores del proyecto hacen algún cambio y nosotros queremos ver esos cambios*.\n",
    "\n",
    "Seguimos basándonos en el siguiente video de `YouTube`."
   ]
  },
  {
   "cell_type": "code",
   "execution_count": null,
   "metadata": {},
   "outputs": [],
   "source": [
    "from IPython.display import YouTubeVideo\n",
    "YouTubeVideo('f0y_xCeM1Rk')"
   ]
  },
  {
   "cell_type": "markdown",
   "metadata": {},
   "source": [
    "___\n",
    "### Receta (continuación)\n",
    "\n",
    "1. Estando en `GitHub` en el repositorio `hello-world`, presionar en *Create new file*.\n",
    "    - Normalmente la gente no crea ni edita archivos en `GitHub`, sin embargo esta será nuestra forma de simular que alguien incluyó un nuevo archivo en nuestro proyecto.\n",
    "    - Darle algún nombre al archivo y agregar algo en el cuerpo de texto.\n",
    "    - Poner un mensaje describiendo que se añadió un nuevo archivo.\n",
    "    - Presionar en *Commit new file*.\n",
    "    - Ver que en el repositorio remoto en `GitHub` ya existe el nuevo archivo, pero en el repositorio local no.\n",
    "2. Revisar el arbol de cambios en `GitKraken`. Vemos que ahora el ícono que revela los cambios en `GitHub` va un paso adelante del ícono que revela los cambios en el repositorio local.\n",
    "3. Para incorporar los cambios del repositorio remoto en el repositorio local debemos presionar en *Pull* en la parte superior. De nuevo, los íconos deberían juntarse.\n",
    "4. Revisar el repositorio local para ver que el nuevo archivo ya está ahí."
   ]
  },
  {
   "cell_type": "markdown",
   "metadata": {},
   "source": [
    "___\n",
    "### Hasta ahora...\n",
    "Hemos aprendido como manejar repositorios remotos de forma básica con `GitKraken`:\n",
    "\n",
    "1. Teniendo un repositorio remoto guardado en `GitHub`, *jalamos* (pulled) esos archivos a nuestro disco local para trabajar. El tipo de operaciones que llevamos a cabo fueron:\n",
    "    1. Clone.\n",
    "    2. Pull.\n",
    "2. También hicimos lo opuesto. Si hacemos cambios en nuestro repositorio local, pudimos actualizar nuestro repositorio de `GitHub`. El tipo de operación que llevamos a cabo fue:\n",
    "    1. Push."
   ]
  },
  {
   "cell_type": "markdown",
   "metadata": {
    "collapsed": true
   },
   "source": [
    "___\n",
    "## ¿Y si cometemos algún error?\n",
    "Los errores son inherentes a nuestra condición humana. Por tanto, es muy probable que en el desarrollo de un proyecto cometamos algún error.\n",
    "\n",
    "Una de las características de gestionar versiones con `git` (y por ende con `GitKraken`), es que podemos volver a un commit anterior si cometimos algún error."
   ]
  },
  {
   "cell_type": "markdown",
   "metadata": {
    "collapsed": true
   },
   "source": [
    "___\n",
    "## Branching\n",
    "Cuando hicimos el ejercicio *hello-world* al abrir la cuenta en `GitHub`, nos dieron una pequeña introducción al *branching* (creamos una rama de edición, editamos el archivo `README`, para finalmente fusionar los cambios en la rama *master*).\n",
    "\n",
    "*Branching*: \n",
    "- Es una forma **<font color=green>segura</font>** de realizar cambios importantes en un proyecto con `git`.\n",
    "- Consiste en crear ramas adicionales para hacer modificaciones en el proyecto sin modificar la rama *master* hasta que se esté completamente seguro de las modificaciones.\n",
    "- Una vez se esté seguro de que las modificaciones están bien, dichas modificaciones se incluyen en la rama *master*\n",
    "\n",
    "### Ejemplo\n",
    "1. En `GitKraken`, en el repositorio `hello-world`, crear una rama llamada *add_file*.\n",
    "    - Click derecho sobre el icono master, y presionar en *Create branch here*.\n",
    "    - Dar nombre *add_file* y presionar la tecla enter.\n",
    "    - Notar que automáticamente `GitKraken` nos pone en la rama recién creada.\n",
    "2. Ir al directorio local del repositorio y añadir un archivo nuevo.\n",
    "3. Hacer el proceso de *stage* y *commit* en la rama.\n",
    "4. Revisar que pasa con el directorio cuando cambiamos de rama (para cambiar de rama, dar doble click sobre la rama a la que se quiere pasar).\n",
    "5. Incluir los cambios en la rama *master* (arrastrar una rama sobre la otra, y picar en la opción **Merge add_file into master**).\n",
    "6. Cambiar a la rama *master* y borrar la rama *add_file*.\n",
    "7. Hacer un *push* para actualizar el repositorio remoto."
   ]
  },
  {
   "cell_type": "markdown",
   "metadata": {},
   "source": [
    "___\n",
    "## Forking\n",
    "Una bifurcación (*fork*) es una copia de un repositorio. Bifurcar un repositorio te permite experimentar cambios libremente sin afectar el proyecto original.\n",
    "\n",
    "Existen varias aplicaciones del *Forking*:\n",
    "\n",
    "### Seguir un proyecto de otra persona\n",
    "Como ejemplo, van a seguir el proyecto de la asignatura **SimMat2020-1**.\n",
    "\n",
    "Los siguientes pasos nos enseñarán como mantener nuestro repositorio local actualizado con el repositorio de la asignatura.\n",
    "1. Entrar al repositorio https://github.com/zapatacc/SimMat2020-1.\n",
    "2. En la esquina superior derecha, dar click en *fork* y esperar un momento. Esta acción copia en su cuenta de `GitHub` un repositorio idéntico al de la materia (con el mismo nombre).\n",
    "3. Desde `GitKraken`, clonar el repositorio (el que ya está en su cuenta).\n",
    "4. En la pestaña *REMOTE* dar click en el signo `+`.\n",
    "    - Presionar en `GitHub`.\n",
    "    - Desplegar la pestaña y elegir zapatacc/SimMat2020-1.\n",
    "    - Presionar en *Add remote*.\n",
    "5. <font color=red>Añadiré un nuevo archvo en el repositorio de la materia y ustedes verán qué pasa en `GitKraken`</font>.\n",
    "6. Arrastrar el repositorio remoto ajeno a la rama *master* y dar click en la opción *Merge zapatacc/master into master*. Ya el repositorio local está actualizado.\n",
    "7. Para actualizar el repositorio remoto propio hacer un *push*.\n",
    "\n",
    "### Proyectos colaborativos\n",
    "Normalmente, los *forks* se usan para proponer cambios en el proyecto de otra persona (hacer proyectos colaborativos).\n",
    "\n",
    "<font color=red>Hacer un cambio en el repositorio propio y mostrar como hacer el *pull request* y el *merge*</font>.\n",
    "\n",
    "**Referencias:**\n",
    "- https://help.github.com/articles/fork-a-repo/\n",
    "- https://guides.github.com/activities/forking/"
   ]
  },
  {
   "cell_type": "markdown",
   "metadata": {},
   "source": [
    "<img style=\"float: center\" src=\"http://anitacheng.com/wp-content/uploads/2014/10/git.jpg\" width=\"550\" height=\"200\" />\n"
   ]
  },
  {
   "cell_type": "markdown",
   "metadata": {},
   "source": [
    "## Tarea 2\n",
    "\n",
    "Crear un nuevo repositorio en su cuenta de `GitHub` llamado `Tarea2_SM`. En dicho proyecto añadir un notebook de jupyter  que debe contener lo siguiente:\n",
    "\n",
    "1. Un resumen de al menos dos de los siguiente artículos donde se resalta la importancia de Python (Diferentes a los que ya hizo):\n",
    "    - http://anewdomain.net/spotlight-should-you-invest-in-python-training/ \n",
    "    - https://www.techrepublic.com/article/why-python-is-so-popular-with-developers-3-reasons-the-language-has-exploded/\n",
    "    - https://www.zdnet.com/article/programming-language-of-the-year-python-is-standout-in-latest-rankings/\n",
    "    - https://www.economist.com/graphic-detail/2018/07/26/python-is-becoming-the-worlds-most-popular-coding-language\n",
    "    - https://www.economist.com/science-and-technology/2018/07/19/python-has-brought-computer-programming-to-a-vast-new-audience\n",
    "    - https://medium.com/@mindfiresolutions.usa/python-7-important-reasons-why-you-should-use-python-5801a98a0d0b\n",
    "    - https://www.pluralsight.com/blog/software-development/why-python\n",
    "    \n",
    "\n",
    "2. El repositorio debe contener al menos 2 `commits` detallados de los cambios hechos en el notebook de jupyter.\n",
    "\n",
    "\n",
    "3. El nombre del archivo debe ser el siguiente T2_PrimerNombrePrimerApellido, en mi caso sería T2_CristianZapata\n",
    "\n",
    "**ENTREGABLE: SE DEBE SUBIR EL ENLACE DE GITHUB AL REPOSITORIO INDICADO.**\n",
    "\n",
    "Fecha: Lunes 3 de Febrero de 2020 a las 23:59"
   ]
  },
  {
   "cell_type": "markdown",
   "metadata": {},
   "source": [
    "<img src=\"https://raw.githubusercontent.com/louim/in-case-of-fire/master/in_case_of_fire.png\" title=\"In case of fire (https://github.com/louim/in-case-of-fire)\" width=\"200\" height=\"50\" align=\"center\">"
   ]
  },
  {
   "cell_type": "markdown",
   "metadata": {},
   "source": [
    "<script>\n",
    "  $(document).ready(function(){\n",
    "    $('div.prompt').hide();\n",
    "    $('div.back-to-top').hide();\n",
    "    $('nav#menubar').hide();\n",
    "    $('.breadcrumb').hide();\n",
    "    $('.hidden-print').hide();\n",
    "  });\n",
    "</script>\n",
    "\n",
    "<footer id=\"attribution\" style=\"float:right; color:#808080; background:#fff;\">\n",
    "Created with Jupyter by Cristian Camilo Zapata Zuluaga.\n",
    "</footer>"
   ]
  }
 ],
 "metadata": {
  "anaconda-cloud": {},
  "kernelspec": {
   "display_name": "Python 3",
   "language": "python",
   "name": "python3"
  },
  "language_info": {
   "codemirror_mode": {
    "name": "ipython",
    "version": 3
   },
   "file_extension": ".py",
   "mimetype": "text/x-python",
   "name": "python",
   "nbconvert_exporter": "python",
   "pygments_lexer": "ipython3",
   "version": "3.6.6"
  }
 },
 "nbformat": 4,
 "nbformat_minor": 1
}
